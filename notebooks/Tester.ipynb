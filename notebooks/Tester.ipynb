{
 "cells": [
  {
   "cell_type": "code",
   "execution_count": 11,
   "id": "a71efecf",
   "metadata": {},
   "outputs": [],
   "source": [
    "from pybkb.bkb import BKB\n",
    "from pybkb.utils.random import generate_random_bkb_inference, generate_random_bkb_inferences, generate_random_bkb\n",
    "from pybkb.fusion import fuse\n",
    "\n",
    "import os\n",
    "import networkx as nx\n",
    "import json"
   ]
  },
  {
   "cell_type": "code",
   "execution_count": 24,
   "id": "b8af6564",
   "metadata": {},
   "outputs": [],
   "source": [
    "bkb_paths = ['../bkbs/fisherman.bkb', \n",
    "             '../bkbs/pirate.bkb', \n",
    "             '../bkbs/illegal_dumping_ev.bkb', \n",
    "             '../bkbs/illegal_fishing_ev.bkb', \n",
    "             '../bkbs/tsunami_ev.bkb']"
   ]
  },
  {
   "cell_type": "code",
   "execution_count": 25,
   "id": "c0edb9d1",
   "metadata": {},
   "outputs": [],
   "source": [
    "bkfs = [BKB.load(path) for path in bkb_paths]"
   ]
  },
  {
   "cell_type": "code",
   "execution_count": 26,
   "id": "f9b98a65",
   "metadata": {},
   "outputs": [],
   "source": [
    "fused = fuse(bkfs, [1 for _ in range(len(bkfs))], collapse=False)"
   ]
  },
  {
   "cell_type": "code",
   "execution_count": 27,
   "id": "b2123586",
   "metadata": {},
   "outputs": [],
   "source": [
    "fused.save('../tests/test_bkb_lib/pirate_scenario_fused.bkb')"
   ]
  },
  {
   "cell_type": "code",
   "execution_count": 6,
   "id": "5f8b0802",
   "metadata": {},
   "outputs": [],
   "source": [
    "rand_bkb.description = 'Random bkb used to test json functionality.'"
   ]
  },
  {
   "cell_type": "code",
   "execution_count": 7,
   "id": "ce0abe23",
   "metadata": {},
   "outputs": [],
   "source": [
    "with open('../tests/test_bkb_lib/test_json.json', 'w') as f_:\n",
    "    json.dump(rand_bkb.to_dict(), f_, indent=2)"
   ]
  },
  {
   "cell_type": "code",
   "execution_count": 8,
   "id": "c846a876",
   "metadata": {},
   "outputs": [],
   "source": [
    "rand_bkb.save('../tests/test_bkb_lib/test_json.bkb')"
   ]
  },
  {
   "cell_type": "code",
   "execution_count": null,
   "id": "1673a962",
   "metadata": {},
   "outputs": [],
   "source": []
  },
  {
   "cell_type": "code",
   "execution_count": 7,
   "id": "add07589",
   "metadata": {},
   "outputs": [],
   "source": [
    "bkis = generate_random_bkb_inferences(features, 5)"
   ]
  },
  {
   "cell_type": "code",
   "execution_count": 8,
   "id": "b651a222",
   "metadata": {},
   "outputs": [
    {
     "data": {
      "application/vnd.jupyter.widget-view+json": {
       "model_id": "44aef82d953c407abd03c6dc01b5a80b",
       "version_major": 2,
       "version_minor": 0
      },
      "text/plain": [
       "CytoscapeWidget(cytoscape_layout={'name': 'dagre', 'nodeSpacing': 10, 'edgeLengthVal': 10}, cytoscape_style=[{…"
      ]
     },
     "execution_count": 8,
     "metadata": {},
     "output_type": "execute_result"
    }
   ],
   "source": [
    "bkis[1].render_nx()"
   ]
  },
  {
   "cell_type": "code",
   "execution_count": 9,
   "id": "1ed2646e",
   "metadata": {},
   "outputs": [],
   "source": [
    "for b in bkis:\n",
    "    b.description = 'Test BKB inference fragment to union.'"
   ]
  },
  {
   "cell_type": "code",
   "execution_count": 10,
   "id": "9be23c18",
   "metadata": {},
   "outputs": [],
   "source": [
    "for b in bkis:\n",
    "    b.save(os.path.join('../tests/test_bkb_lib/union_fragments', f'{b.name}.bkb'))"
   ]
  },
  {
   "cell_type": "code",
   "execution_count": 11,
   "id": "b3a81df7",
   "metadata": {},
   "outputs": [
    {
     "data": {
      "application/vnd.jupyter.widget-view+json": {
       "model_id": "22c9bca4573949e2aa72dad9fccea675",
       "version_major": 2,
       "version_minor": 0
      },
      "text/plain": [
       "CytoscapeWidget(cytoscape_layout={'name': 'dagre', 'nodeSpacing': 10, 'edgeLengthVal': 10}, cytoscape_style=[{…"
      ]
     },
     "execution_count": 11,
     "metadata": {},
     "output_type": "execute_result"
    }
   ],
   "source": [
    "unioned = BKB.union(*bkis)\n",
    "unioned.render_nx()"
   ]
  },
  {
   "cell_type": "code",
   "execution_count": 12,
   "id": "c4bc68b6",
   "metadata": {},
   "outputs": [],
   "source": [
    "unioned.save('../tests/test_bkb_lib/test_union.bkb')"
   ]
  },
  {
   "cell_type": "code",
   "execution_count": 13,
   "id": "5c87f2fb",
   "metadata": {},
   "outputs": [],
   "source": [
    "s = [1,2,3,4]"
   ]
  },
  {
   "cell_type": "code",
   "execution_count": 14,
   "id": "cdb172cb",
   "metadata": {},
   "outputs": [
    {
     "data": {
      "text/plain": [
       "1"
      ]
     },
     "execution_count": 14,
     "metadata": {},
     "output_type": "execute_result"
    }
   ],
   "source": [
    "s.pop(0)"
   ]
  },
  {
   "cell_type": "code",
   "execution_count": 15,
   "id": "9d55fabc",
   "metadata": {},
   "outputs": [
    {
     "data": {
      "text/plain": [
       "[2, 3, 4]"
      ]
     },
     "execution_count": 15,
     "metadata": {},
     "output_type": "execute_result"
    }
   ],
   "source": [
    "s"
   ]
  },
  {
   "cell_type": "code",
   "execution_count": 16,
   "id": "7045fead",
   "metadata": {},
   "outputs": [
    {
     "data": {
      "text/plain": [
       "<pybkb.bkb.BKB at 0x7f0f9c9fd9d0>"
      ]
     },
     "execution_count": 16,
     "metadata": {},
     "output_type": "execute_result"
    }
   ],
   "source": [
    "BKB.load('../tests/test_bkb_lib/test_union.bkb')"
   ]
  },
  {
   "cell_type": "code",
   "execution_count": 11,
   "id": "861f0f31",
   "metadata": {},
   "outputs": [],
   "source": [
    "from pybkb.utils.probability import *\n",
    "import compress_pickle\n",
    "import pandas as pd"
   ]
  },
  {
   "cell_type": "code",
   "execution_count": 5,
   "id": "4ec85e76",
   "metadata": {},
   "outputs": [],
   "source": [
    "with open('../data/iris-standard_classification-no_missing_values.dat', 'rb') as f_:\n",
    "    d = compress_pickle.load(f_, compression='lz4')"
   ]
  },
  {
   "cell_type": "code",
   "execution_count": 7,
   "id": "868d2544",
   "metadata": {},
   "outputs": [],
   "source": [
    "data, feature_states, srcs = d"
   ]
  },
  {
   "cell_type": "code",
   "execution_count": 9,
   "id": "207f77ff",
   "metadata": {},
   "outputs": [
    {
     "data": {
      "text/plain": [
       "[('SepalLength', '< 5.55'),\n",
       " ('SepalLength', '5.55 - 6.15'),\n",
       " ('SepalLength', '≥ 6.15'),\n",
       " ('SepalWidth', '< 2.95'),\n",
       " ('SepalWidth', '2.95 - 3.35'),\n",
       " ('SepalWidth', '≥ 3.35'),\n",
       " ('PetalLength', '< 2.45'),\n",
       " ('PetalLength', '2.45 - 4.75'),\n",
       " ('PetalLength', '≥ 4.75'),\n",
       " ('PetalWidth', '< 0.8'),\n",
       " ('PetalWidth', '0.8 - 1.75'),\n",
       " ('PetalWidth', '≥ 1.75'),\n",
       " ('Class', 'Iris-virginica'),\n",
       " ('Class', 'Iris-setosa'),\n",
       " ('Class', 'Iris-versicolor')]"
      ]
     },
     "execution_count": 9,
     "metadata": {},
     "output_type": "execute_result"
    }
   ],
   "source": [
    "feature_states"
   ]
  },
  {
   "cell_type": "code",
   "execution_count": 12,
   "id": "e8fedc18",
   "metadata": {},
   "outputs": [],
   "source": [
    "df = pd.DataFrame.from_records(data, columns=feature_states)"
   ]
  },
  {
   "cell_type": "code",
   "execution_count": 19,
   "id": "08a7365d",
   "metadata": {},
   "outputs": [],
   "source": [
    "joint_df = df.value_counts([(\"SepalLength\", \"< 5.55\"), (\"SepalWidth\", \"< 2.95\"), ('PetalLength', '< 2.45')], normalize=True)"
   ]
  },
  {
   "cell_type": "code",
   "execution_count": 26,
   "id": "14d4490a",
   "metadata": {},
   "outputs": [
    {
     "data": {
      "text/plain": [
       "(0.013333333333333334,\n",
       " {'__ncalls__': 1,\n",
       "  '__nhashlookups__': 0,\n",
       "  frozenset({0, 3, 6}): 0.013333333333333334})"
      ]
     },
     "execution_count": 26,
     "metadata": {},
     "output_type": "execute_result"
    }
   ],
   "source": [
    "joint_prob(data, 0, [3, 6])"
   ]
  },
  {
   "cell_type": "code",
   "execution_count": 22,
   "id": "e770ba89",
   "metadata": {},
   "outputs": [
    {
     "data": {
      "text/plain": [
       "0.013333333333333334"
      ]
     },
     "execution_count": 22,
     "metadata": {},
     "output_type": "execute_result"
    }
   ],
   "source": [
    "joint_df.loc[(1.0, 1.0, 1.0)]"
   ]
  },
  {
   "cell_type": "code",
   "execution_count": 27,
   "id": "e32374de",
   "metadata": {},
   "outputs": [],
   "source": [
    "data_test = np.random.randn(100000, 3)"
   ]
  },
  {
   "cell_type": "code",
   "execution_count": 55,
   "id": "6c4a00b7",
   "metadata": {},
   "outputs": [
    {
     "ename": "MemoryError",
     "evalue": "Unable to allocate 8.00 GiB for an array with shape (1073741824,) and data type int64",
     "output_type": "error",
     "traceback": [
      "\u001b[0;31m---------------------------------------------------------------------------\u001b[0m",
      "\u001b[0;31mMemoryError\u001b[0m                               Traceback (most recent call last)",
      "Cell \u001b[0;32mIn[55], line 1\u001b[0m\n\u001b[0;32m----> 1\u001b[0m jointProbs, edges \u001b[38;5;241m=\u001b[39m \u001b[43mnp\u001b[49m\u001b[38;5;241;43m.\u001b[39;49m\u001b[43mhistogramdd\u001b[49m\u001b[43m(\u001b[49m\u001b[43mdata\u001b[49m\u001b[43m,\u001b[49m\u001b[43m \u001b[49m\u001b[43mbins\u001b[49m\u001b[38;5;241;43m=\u001b[39;49m\u001b[38;5;241;43m2\u001b[39;49m\u001b[43m)\u001b[49m\n",
      "File \u001b[0;32m<__array_function__ internals>:180\u001b[0m, in \u001b[0;36mhistogramdd\u001b[0;34m(*args, **kwargs)\u001b[0m\n",
      "File \u001b[0;32m~/.cache/pypoetry/virtualenvs/pybkb-0EmLJAN6-py3.8/lib/python3.8/site-packages/numpy/lib/histograms.py:1095\u001b[0m, in \u001b[0;36mhistogramdd\u001b[0;34m(sample, bins, range, normed, weights, density)\u001b[0m\n\u001b[1;32m   1091\u001b[0m xy \u001b[38;5;241m=\u001b[39m np\u001b[38;5;241m.\u001b[39mravel_multi_index(Ncount, nbin)\n\u001b[1;32m   1093\u001b[0m \u001b[38;5;66;03m# Compute the number of repetitions in xy and assign it to the\u001b[39;00m\n\u001b[1;32m   1094\u001b[0m \u001b[38;5;66;03m# flattened histmat.\u001b[39;00m\n\u001b[0;32m-> 1095\u001b[0m hist \u001b[38;5;241m=\u001b[39m \u001b[43mnp\u001b[49m\u001b[38;5;241;43m.\u001b[39;49m\u001b[43mbincount\u001b[49m\u001b[43m(\u001b[49m\u001b[43mxy\u001b[49m\u001b[43m,\u001b[49m\u001b[43m \u001b[49m\u001b[43mweights\u001b[49m\u001b[43m,\u001b[49m\u001b[43m \u001b[49m\u001b[43mminlength\u001b[49m\u001b[38;5;241;43m=\u001b[39;49m\u001b[43mnbin\u001b[49m\u001b[38;5;241;43m.\u001b[39;49m\u001b[43mprod\u001b[49m\u001b[43m(\u001b[49m\u001b[43m)\u001b[49m\u001b[43m)\u001b[49m\n\u001b[1;32m   1097\u001b[0m \u001b[38;5;66;03m# Shape into a proper matrix\u001b[39;00m\n\u001b[1;32m   1098\u001b[0m hist \u001b[38;5;241m=\u001b[39m hist\u001b[38;5;241m.\u001b[39mreshape(nbin)\n",
      "File \u001b[0;32m<__array_function__ internals>:180\u001b[0m, in \u001b[0;36mbincount\u001b[0;34m(*args, **kwargs)\u001b[0m\n",
      "\u001b[0;31mMemoryError\u001b[0m: Unable to allocate 8.00 GiB for an array with shape (1073741824,) and data type int64"
     ]
    }
   ],
   "source": [
    "jointProbs, edges = np.histogramdd(data, bins=2)"
   ]
  },
  {
   "cell_type": "code",
   "execution_count": 56,
   "id": "f5deaa7e",
   "metadata": {},
   "outputs": [
    {
     "data": {
      "text/plain": [
       "(150, 15)"
      ]
     },
     "execution_count": 56,
     "metadata": {},
     "output_type": "execute_result"
    }
   ],
   "source": [
    "data.shape"
   ]
  },
  {
   "cell_type": "code",
   "execution_count": 57,
   "id": "bf97f6c8",
   "metadata": {},
   "outputs": [],
   "source": [
    "jpm = np.array([\n",
    "    [.1, 0, 0],\n",
    "    [0.2, 0.3, 0.2],\n",
    "    [0, 0, .2]\n",
    "])"
   ]
  },
  {
   "cell_type": "code",
   "execution_count": 58,
   "id": "03d3ce57",
   "metadata": {},
   "outputs": [
    {
     "data": {
      "text/plain": [
       "array([[0.1, 0. , 0. ],\n",
       "       [0.2, 0.3, 0.2],\n",
       "       [0. , 0. , 0.2]])"
      ]
     },
     "execution_count": 58,
     "metadata": {},
     "output_type": "execute_result"
    }
   ],
   "source": [
    "jpm"
   ]
  },
  {
   "cell_type": "code",
   "execution_count": 59,
   "id": "bd40969b",
   "metadata": {},
   "outputs": [],
   "source": [
    "P_P = np.sum(jpm, axis=1)"
   ]
  },
  {
   "cell_type": "code",
   "execution_count": 60,
   "id": "10afd0c2",
   "metadata": {},
   "outputs": [
    {
     "data": {
      "text/plain": [
       "array([0.1, 0.7, 0.2])"
      ]
     },
     "execution_count": 60,
     "metadata": {},
     "output_type": "execute_result"
    }
   ],
   "source": [
    "P_P"
   ]
  },
  {
   "cell_type": "code",
   "execution_count": 64,
   "id": "d821fee5",
   "metadata": {},
   "outputs": [],
   "source": [
    "P_XgP = jpm / P_P[:,None]"
   ]
  },
  {
   "cell_type": "code",
   "execution_count": 69,
   "id": "eee49f2e",
   "metadata": {},
   "outputs": [
    {
     "name": "stdout",
     "output_type": "stream",
     "text": [
      "0.1 1.0\n",
      "0.0 0.0\n",
      "0.0 0.0\n",
      "0.2 0.28571428571428575\n",
      "0.3 0.4285714285714286\n",
      "0.2 0.28571428571428575\n",
      "0.0 0.0\n",
      "0.0 0.0\n",
      "0.2 1.0\n"
     ]
    },
    {
     "name": "stderr",
     "output_type": "stream",
     "text": [
      "/tmp/ipykernel_18334/3097852353.py:4: RuntimeWarning: divide by zero encountered in log2\n",
      "  ih.append(p_xp*np.log2(p_xgp))\n",
      "/tmp/ipykernel_18334/3097852353.py:4: RuntimeWarning: invalid value encountered in double_scalars\n",
      "  ih.append(p_xp*np.log2(p_xgp))\n"
     ]
    }
   ],
   "source": [
    "ih = []\n",
    "for p_xp, p_xgp in zip(jpm.flatten(), P_XgP.flatten()):\n",
    "    print(p_xp, p_xgp)\n",
    "    ih.append(p_xp*np.log2(p_xgp))"
   ]
  },
  {
   "cell_type": "code",
   "execution_count": 70,
   "id": "e5f36af0",
   "metadata": {},
   "outputs": [
    {
     "data": {
      "text/plain": [
       "[0.0,\n",
       " nan,\n",
       " nan,\n",
       " -0.3614709844115208,\n",
       " -0.36671772640093436,\n",
       " -0.3614709844115208,\n",
       " nan,\n",
       " nan,\n",
       " 0.0]"
      ]
     },
     "execution_count": 70,
     "metadata": {},
     "output_type": "execute_result"
    }
   ],
   "source": [
    "ih"
   ]
  },
  {
   "cell_type": "code",
   "execution_count": 72,
   "id": "24180adf",
   "metadata": {},
   "outputs": [
    {
     "data": {
      "text/plain": [
       "-1.0896596952239759"
      ]
     },
     "execution_count": 72,
     "metadata": {},
     "output_type": "execute_result"
    }
   ],
   "source": [
    "np.nansum(ih)"
   ]
  },
  {
   "cell_type": "code",
   "execution_count": 145,
   "id": "38250722",
   "metadata": {},
   "outputs": [
    {
     "data": {
      "text/plain": [
       "array([[0.1, 0. , 0. ],\n",
       "       [0.2, 0.3, 0.2],\n",
       "       [0. , 0. , 0.2]])"
      ]
     },
     "execution_count": 145,
     "metadata": {},
     "output_type": "execute_result"
    }
   ],
   "source": [
    "jpm"
   ]
  },
  {
   "cell_type": "code",
   "execution_count": 144,
   "id": "7ff8a9b4",
   "metadata": {},
   "outputs": [
    {
     "data": {
      "text/plain": [
       "array([[0. , 0. , 0.1],\n",
       "       [0.2, 0.3, 0.2],\n",
       "       [0.2, 0. , 0. ]])"
      ]
     },
     "execution_count": 144,
     "metadata": {},
     "output_type": "execute_result"
    }
   ],
   "source": [
    "np.fliplr(jpm)"
   ]
  },
  {
   "cell_type": "code",
   "execution_count": 75,
   "id": "66663ffa",
   "metadata": {},
   "outputs": [],
   "source": [
    "p_x_margin = np.sum(jpm, axis=0)\n",
    "p_p_margin = np.sum(jpm, axis=1)"
   ]
  },
  {
   "cell_type": "code",
   "execution_count": 80,
   "id": "189fcd6c",
   "metadata": {},
   "outputs": [
    {
     "data": {
      "text/plain": [
       "array([0.3, 0.3, 0.4])"
      ]
     },
     "execution_count": 80,
     "metadata": {},
     "output_type": "execute_result"
    }
   ],
   "source": [
    "p_x_margin"
   ]
  },
  {
   "cell_type": "code",
   "execution_count": 77,
   "id": "e19984c3",
   "metadata": {},
   "outputs": [
    {
     "data": {
      "text/plain": [
       "array([0.1, 0.7, 0.2])"
      ]
     },
     "execution_count": 77,
     "metadata": {},
     "output_type": "execute_result"
    }
   ],
   "source": [
    "p_p_margin"
   ]
  },
  {
   "cell_type": "code",
   "execution_count": 130,
   "id": "e91e8549",
   "metadata": {},
   "outputs": [
    {
     "name": "stderr",
     "output_type": "stream",
     "text": [
      "/tmp/ipykernel_18334/470820342.py:4: RuntimeWarning: divide by zero encountered in log2\n",
      "  mi.append(p_xp * np.log2(p_xp/(p_x_margin[i] * p_p_margin[j])))\n",
      "/tmp/ipykernel_18334/470820342.py:4: RuntimeWarning: invalid value encountered in double_scalars\n",
      "  mi.append(p_xp * np.log2(p_xp/(p_x_margin[i] * p_p_margin[j])))\n"
     ]
    }
   ],
   "source": [
    "mi = []\n",
    "for j, p_xp_row in enumerate(jpm):\n",
    "    for i, p_xp in enumerate(p_xp_row):\n",
    "        mi.append(p_xp * np.log2(p_xp/(p_x_margin[i] * p_p_margin[j])))"
   ]
  },
  {
   "cell_type": "code",
   "execution_count": 131,
   "id": "bb3594f3",
   "metadata": {},
   "outputs": [
    {
     "data": {
      "text/plain": [
       "0.48129089923069257"
      ]
     },
     "execution_count": 131,
     "metadata": {},
     "output_type": "execute_result"
    }
   ],
   "source": [
    "np.nansum(mi)"
   ]
  },
  {
   "cell_type": "code",
   "execution_count": 139,
   "id": "16d9e47d",
   "metadata": {},
   "outputs": [
    {
     "data": {
      "text/plain": [
       "array([[0.1, 0.7, 0.2]])"
      ]
     },
     "execution_count": 139,
     "metadata": {},
     "output_type": "execute_result"
    }
   ],
   "source": [
    "np.expand_dims(p_p_margin, axis=0)"
   ]
  },
  {
   "cell_type": "code",
   "execution_count": 133,
   "id": "7cc39d26",
   "metadata": {},
   "outputs": [
    {
     "data": {
      "text/plain": [
       "-0.014077865578279572"
      ]
     },
     "execution_count": 133,
     "metadata": {},
     "output_type": "execute_result"
    }
   ],
   "source": [
    ".2 * np.log2(.2/(.3*.7))"
   ]
  },
  {
   "cell_type": "code",
   "execution_count": 142,
   "id": "936d773f",
   "metadata": {},
   "outputs": [
    {
     "data": {
      "text/plain": [
       "0.40054970838640475"
      ]
     },
     "execution_count": 142,
     "metadata": {},
     "output_type": "execute_result"
    }
   ],
   "source": [
    ".17925 / .44751"
   ]
  },
  {
   "cell_type": "code",
   "execution_count": 92,
   "id": "cc704d0f",
   "metadata": {},
   "outputs": [],
   "source": [
    "s = np.random.choice(jpm.size, 10, p=jpm.ravel())"
   ]
  },
  {
   "cell_type": "code",
   "execution_count": 143,
   "id": "93fbf79b",
   "metadata": {},
   "outputs": [
    {
     "data": {
      "text/plain": [
       "0.31205000000000005"
      ]
     },
     "execution_count": 143,
     "metadata": {},
     "output_type": "execute_result"
    }
   ],
   "source": [
    "0.17784 + 0.11848 + 0.01573"
   ]
  },
  {
   "cell_type": "code",
   "execution_count": 95,
   "id": "845ece6c",
   "metadata": {},
   "outputs": [
    {
     "data": {
      "text/plain": [
       "(array([2, 1, 1, 0, 2, 0, 1, 1, 1, 2]), array([2, 1, 1, 0, 2, 0, 2, 0, 0, 2]))"
      ]
     },
     "execution_count": 95,
     "metadata": {},
     "output_type": "execute_result"
    }
   ],
   "source": [
    "np.unravel_index(s, jpm.shape)"
   ]
  },
  {
   "cell_type": "code",
   "execution_count": 102,
   "id": "5c4e45f3",
   "metadata": {},
   "outputs": [],
   "source": [
    "d = np.vstack(np.unravel_index(s, jpm.shape)).T"
   ]
  },
  {
   "cell_type": "code",
   "execution_count": 100,
   "id": "d8f6600d",
   "metadata": {},
   "outputs": [],
   "source": [
    "import itertools"
   ]
  },
  {
   "cell_type": "code",
   "execution_count": 101,
   "id": "a95e8167",
   "metadata": {},
   "outputs": [
    {
     "name": "stdout",
     "output_type": "stream",
     "text": [
      "(1,)\n",
      "(2,)\n",
      "(3,)\n"
     ]
    }
   ],
   "source": [
    "for p in itertools.product(*[[1,2,3]]):\n",
    "    print(p)"
   ]
  },
  {
   "cell_type": "code",
   "execution_count": 106,
   "id": "c0558c6d",
   "metadata": {},
   "outputs": [
    {
     "data": {
      "text/plain": [
       "dtype('int64')"
      ]
     },
     "execution_count": 106,
     "metadata": {},
     "output_type": "execute_result"
    }
   ],
   "source": [
    "d.dtype"
   ]
  },
  {
   "cell_type": "code",
   "execution_count": 107,
   "id": "cb1e18ee",
   "metadata": {},
   "outputs": [
    {
     "data": {
      "text/plain": [
       "array([[0.1, 0. , 0. ],\n",
       "       [0.2, 0.3, 0.2],\n",
       "       [0. , 0. , 0.2]])"
      ]
     },
     "execution_count": 107,
     "metadata": {},
     "output_type": "execute_result"
    }
   ],
   "source": [
    "jpm"
   ]
  },
  {
   "cell_type": "code",
   "execution_count": 114,
   "id": "a5d6f3ce",
   "metadata": {},
   "outputs": [
    {
     "data": {
      "text/plain": [
       "[(0, 0), (0, 1), (0, 2), (1, 0), (1, 1), (1, 2), (2, 0), (2, 1), (2, 2)]"
      ]
     },
     "execution_count": 114,
     "metadata": {},
     "output_type": "execute_result"
    }
   ],
   "source": [
    "coor = [np.unravel_index(i, jpm.shape) for i in range(jpm.size)]\n",
    "coor"
   ]
  },
  {
   "cell_type": "code",
   "execution_count": 115,
   "id": "a4844b28",
   "metadata": {},
   "outputs": [
    {
     "data": {
      "text/plain": [
       "0.4754887502163468"
      ]
     },
     "execution_count": 115,
     "metadata": {},
     "output_type": "execute_result"
    }
   ],
   "source": [
    "0.3 * np.log2(0.3 / (0.2 * 0.5))"
   ]
  },
  {
   "cell_type": "code",
   "execution_count": 116,
   "id": "43bd088a",
   "metadata": {},
   "outputs": [
    {
     "data": {
      "text/plain": [
       "array([[0.1, 0. , 0. ],\n",
       "       [0.2, 0.3, 0.2],\n",
       "       [0. , 0. , 0.2]])"
      ]
     },
     "execution_count": 116,
     "metadata": {},
     "output_type": "execute_result"
    }
   ],
   "source": [
    "jpm"
   ]
  },
  {
   "cell_type": "code",
   "execution_count": 119,
   "id": "a3825012",
   "metadata": {},
   "outputs": [
    {
     "data": {
      "text/plain": [
       "array([0.1, 0.7, 0.2])"
      ]
     },
     "execution_count": 119,
     "metadata": {},
     "output_type": "execute_result"
    }
   ],
   "source": [
    "p_0 = np.sum(jpm, axis=1)\n",
    "p_0"
   ]
  },
  {
   "cell_type": "code",
   "execution_count": 121,
   "id": "7880e6a3",
   "metadata": {},
   "outputs": [
    {
     "data": {
      "text/plain": [
       "array([0.3, 0.3, 0.4])"
      ]
     },
     "execution_count": 121,
     "metadata": {},
     "output_type": "execute_result"
    }
   ],
   "source": [
    "p_1 = np.sum(jpm, axis=0)\n",
    "p_1"
   ]
  },
  {
   "cell_type": "code",
   "execution_count": null,
   "id": "d9fc1cbe",
   "metadata": {},
   "outputs": [],
   "source": []
  }
 ],
 "metadata": {
  "kernelspec": {
   "display_name": "Python 3 (ipykernel)",
   "language": "python",
   "name": "python3"
  },
  "language_info": {
   "codemirror_mode": {
    "name": "ipython",
    "version": 3
   },
   "file_extension": ".py",
   "mimetype": "text/x-python",
   "name": "python",
   "nbconvert_exporter": "python",
   "pygments_lexer": "ipython3",
   "version": "3.8.10"
  }
 },
 "nbformat": 4,
 "nbformat_minor": 5
}
