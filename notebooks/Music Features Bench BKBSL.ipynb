{
 "cells": [
  {
   "cell_type": "code",
   "execution_count": 1,
   "metadata": {},
   "outputs": [
    {
     "name": "stdout",
     "output_type": "stream",
     "text": [
      "C ADTree implementation unavailable.\n",
      "No module named 'adtree'\n"
     ]
    }
   ],
   "source": [
    "from pybkb.learn import BKBLearner, BNLearner\n",
    "from pybkb.utils.data import DataWrangler\n",
    "from pybkb.utils.cytoscape import render, build_bkb_cytoscape_data\n",
    "import ipycytoscape\n",
    "from pybkb.fusion import fuse"
   ]
  },
  {
   "cell_type": "code",
   "execution_count": 2,
   "metadata": {},
   "outputs": [],
   "source": [
    "path = '/mnt/c/Users/c_yak/Downloads/music_features_bench/data.csv'\n",
    "wrangler = DataWrangler(\n",
    "    train_data_path=path,\n",
    "    predict_class_name='label',\n",
    "    source_labels_feature='filename',\n",
    ")"
   ]
  },
  {
   "cell_type": "code",
   "execution_count": 3,
   "metadata": {},
   "outputs": [],
   "source": [
    "data, feature_states, srcs = wrangler.get_bkb_dataset(combine_train_test=True)"
   ]
  },
  {
   "cell_type": "code",
   "execution_count": 4,
   "metadata": {},
   "outputs": [],
   "source": [
    "learner = BKBLearner('gobnilp', 'mdl_ent', palim=3)"
   ]
  },
  {
   "cell_type": "code",
   "execution_count": 5,
   "metadata": {},
   "outputs": [
    {
     "name": "stderr",
     "output_type": "stream",
     "text": [
      "Learning Fragments:   2%|██▏                                                                                                   | 22/1000 [21:10:47<941:32:10, 3465.78s/it]\n"
     ]
    },
    {
     "ename": "KeyboardInterrupt",
     "evalue": "",
     "output_type": "error",
     "traceback": [
      "\u001b[0;31m---------------------------------------------------------------------------\u001b[0m",
      "\u001b[0;31mKeyboardInterrupt\u001b[0m                         Traceback (most recent call last)",
      "Input \u001b[0;32mIn [5]\u001b[0m, in \u001b[0;36m<cell line: 1>\u001b[0;34m()\u001b[0m\n\u001b[0;32m----> 1\u001b[0m \u001b[43mlearner\u001b[49m\u001b[38;5;241;43m.\u001b[39;49m\u001b[43mfit\u001b[49m\u001b[43m(\u001b[49m\u001b[43mdata\u001b[49m\u001b[43m,\u001b[49m\u001b[43m \u001b[49m\u001b[43mfeature_states\u001b[49m\u001b[43m,\u001b[49m\u001b[43m \u001b[49m\u001b[43msrcs\u001b[49m\u001b[38;5;241;43m=\u001b[39;49m\u001b[43msrcs\u001b[49m\u001b[43m,\u001b[49m\u001b[43m \u001b[49m\u001b[43mverbose\u001b[49m\u001b[38;5;241;43m=\u001b[39;49m\u001b[38;5;28;43;01mTrue\u001b[39;49;00m\u001b[43m)\u001b[49m\n",
      "File \u001b[0;32m~/src/research/modules/PyBKB/pybkb_venv/lib/python3.8/site-packages/pybkb/learn/__init__.py:83\u001b[0m, in \u001b[0;36mBKBLearner.fit\u001b[0;34m(self, data, feature_states, srcs, src_reliabilities, collapse, verbose)\u001b[0m\n\u001b[1;32m     81\u001b[0m     src_reliabilities \u001b[38;5;241m=\u001b[39m [\u001b[38;5;241m1\u001b[39m \u001b[38;5;28;01mfor\u001b[39;00m _ \u001b[38;5;129;01min\u001b[39;00m \u001b[38;5;28mrange\u001b[39m(\u001b[38;5;28mlen\u001b[39m(srcs))]\n\u001b[1;32m     82\u001b[0m \u001b[38;5;66;03m# Construct best inferences (bayesian knowledge fragments)\u001b[39;00m\n\u001b[0;32m---> 83\u001b[0m \u001b[38;5;28mself\u001b[39m\u001b[38;5;241m.\u001b[39mbkfs, \u001b[38;5;28mself\u001b[39m\u001b[38;5;241m.\u001b[39mreport \u001b[38;5;241m=\u001b[39m \u001b[38;5;28;43mself\u001b[39;49m\u001b[38;5;241;43m.\u001b[39;49m\u001b[43mbackend\u001b[49m\u001b[38;5;241;43m.\u001b[39;49m\u001b[43mlearn\u001b[49m\u001b[43m(\u001b[49m\u001b[43mdata\u001b[49m\u001b[43m,\u001b[49m\u001b[43m \u001b[49m\u001b[43mfeature_states\u001b[49m\u001b[43m,\u001b[49m\u001b[43m \u001b[49m\u001b[43mverbose\u001b[49m\u001b[38;5;241;43m=\u001b[39;49m\u001b[43mverbose\u001b[49m\u001b[43m)\u001b[49m\n\u001b[1;32m     84\u001b[0m \u001b[38;5;66;03m# Fuse fragments\u001b[39;00m\n\u001b[1;32m     85\u001b[0m \u001b[38;5;28mself\u001b[39m\u001b[38;5;241m.\u001b[39mreport\u001b[38;5;241m.\u001b[39mstart_timer()\n",
      "File \u001b[0;32m~/src/research/modules/PyBKB/pybkb_venv/lib/python3.8/site-packages/pybkb/learn/backends.py:276\u001b[0m, in \u001b[0;36mBKBGobnilpBackend.learn\u001b[0;34m(self, data, feature_states, verbose)\u001b[0m\n\u001b[1;32m    274\u001b[0m m \u001b[38;5;241m=\u001b[39m Gobnilp()\n\u001b[1;32m    275\u001b[0m \u001b[38;5;66;03m# Start the learning but stop before learning to add constraints\u001b[39;00m\n\u001b[0;32m--> 276\u001b[0m \u001b[43mm\u001b[49m\u001b[38;5;241;43m.\u001b[39;49m\u001b[43mlearn\u001b[49m\u001b[43m(\u001b[49m\u001b[43mlocal_scores_source\u001b[49m\u001b[38;5;241;43m=\u001b[39;49m\u001b[43mscores\u001b[49m\u001b[43m,\u001b[49m\u001b[43m \u001b[49m\u001b[43mend\u001b[49m\u001b[38;5;241;43m=\u001b[39;49m\u001b[38;5;124;43m'\u001b[39;49m\u001b[38;5;124;43mMIP model\u001b[39;49m\u001b[38;5;124;43m'\u001b[39;49m\u001b[43m)\u001b[49m\n\u001b[1;32m    277\u001b[0m \u001b[38;5;66;03m# Grab all the adjacency variables\u001b[39;00m\n\u001b[1;32m    278\u001b[0m adj \u001b[38;5;241m=\u001b[39m [v \u001b[38;5;28;01mfor\u001b[39;00m p, v \u001b[38;5;129;01min\u001b[39;00m m\u001b[38;5;241m.\u001b[39madjacency\u001b[38;5;241m.\u001b[39mitems()]\n",
      "File \u001b[0;32m~/src/research/modules/PyBKB/pybkb_venv/lib/python3.8/site-packages/pygobnilp/gobnilp.py:3882\u001b[0m, in \u001b[0;36mGobnilp.learn\u001b[0;34m(self, data_source, varnames, header, comments, delimiter, start, end, data_type, score, local_score_fun, k, sdresidparam, standardise, arities, palim, alpha, nu, alpha_mu, alpha_omega, starts, local_scores_source, nsols, kbest, mec, polytree, chordal, consfile, consdict, settingsfile, pruning, edge_penalty, plot, abbrev, output_scores, output_stem, output_dag, output_cpdag, output_ext, verbose, gurobi_output, **params)\u001b[0m\n\u001b[1;32m   3879\u001b[0m \u001b[38;5;28;01mif\u001b[39;00m \u001b[38;5;28mself\u001b[39m\u001b[38;5;241m.\u001b[39mbetween(\u001b[38;5;28mself\u001b[39m\u001b[38;5;241m.\u001b[39m_stage,\u001b[38;5;124m'\u001b[39m\u001b[38;5;124mMIP model\u001b[39m\u001b[38;5;124m'\u001b[39m,end):\n\u001b[1;32m   3880\u001b[0m     \u001b[38;5;66;03m# no MIP model yet, (or we wish to throw away the existing one) so make one\u001b[39;00m\n\u001b[1;32m   3881\u001b[0m     \u001b[38;5;28mself\u001b[39m\u001b[38;5;241m.\u001b[39mclear_basic_model()\n\u001b[0;32m-> 3882\u001b[0m     \u001b[38;5;28;43mself\u001b[39;49m\u001b[38;5;241;43m.\u001b[39;49m\u001b[43mmake_basic_model\u001b[49m\u001b[43m(\u001b[49m\u001b[43mnsols\u001b[49m\u001b[38;5;241;43m=\u001b[39;49m\u001b[43mnsols\u001b[49m\u001b[43m,\u001b[49m\u001b[43m \u001b[49m\u001b[43mkbest\u001b[49m\u001b[38;5;241;43m=\u001b[39;49m\u001b[43mkbest\u001b[49m\u001b[43m,\u001b[49m\u001b[43m \u001b[49m\u001b[43mmec\u001b[49m\u001b[38;5;241;43m=\u001b[39;49m\u001b[43mmec\u001b[49m\u001b[43m,\u001b[49m\u001b[43m \u001b[49m\u001b[43mpolytree\u001b[49m\u001b[38;5;241;43m=\u001b[39;49m\u001b[43mpolytree\u001b[49m\u001b[43m,\u001b[49m\u001b[43m \u001b[49m\u001b[43mchordal\u001b[49m\u001b[38;5;241;43m=\u001b[39;49m\u001b[43mchordal\u001b[49m\u001b[43m)\u001b[49m\n\u001b[1;32m   3883\u001b[0m     \u001b[38;5;66;03m# call 'mipconss' if it is defined\u001b[39;00m\n\u001b[1;32m   3884\u001b[0m     \u001b[38;5;28;01mif\u001b[39;00m consfile \u001b[38;5;129;01mis\u001b[39;00m \u001b[38;5;129;01mnot\u001b[39;00m \u001b[38;5;28;01mNone\u001b[39;00m:\n",
      "File \u001b[0;32m~/src/research/modules/PyBKB/pybkb_venv/lib/python3.8/site-packages/pygobnilp/gobnilp.py:3652\u001b[0m, in \u001b[0;36mGobnilp.make_basic_model\u001b[0;34m(self, nsols, kbest, mec, polytree, chordal)\u001b[0m\n\u001b[1;32m   3650\u001b[0m \u001b[38;5;28;01melse\u001b[39;00m:\n\u001b[1;32m   3651\u001b[0m     \u001b[38;5;28mself\u001b[39m\u001b[38;5;241m.\u001b[39mParams\u001b[38;5;241m.\u001b[39mPoolSearchMode \u001b[38;5;241m=\u001b[39m \u001b[38;5;241m1\u001b[39m   \u001b[38;5;66;03m# find k best solutions\u001b[39;00m\n\u001b[0;32m-> 3652\u001b[0m \u001b[38;5;28;43mself\u001b[39;49m\u001b[38;5;241;43m.\u001b[39;49m\u001b[43madd_basic_constraints\u001b[49m\u001b[43m(\u001b[49m\u001b[43m)\u001b[49m\n\u001b[1;32m   3653\u001b[0m \u001b[38;5;28;01mif\u001b[39;00m mec:\n\u001b[1;32m   3654\u001b[0m     \u001b[38;5;28mself\u001b[39m\u001b[38;5;241m.\u001b[39madd_constraints_one_dag_per_MEC()\n",
      "File \u001b[0;32m~/src/research/modules/PyBKB/pybkb_venv/lib/python3.8/site-packages/pygobnilp/gobnilp.py:2673\u001b[0m, in \u001b[0;36mGobnilp.add_basic_constraints\u001b[0;34m(self)\u001b[0m\n\u001b[1;32m   2662\u001b[0m \u001b[38;5;124;03m'''Adds the most useful constraints\u001b[39;00m\n\u001b[1;32m   2663\u001b[0m \n\u001b[1;32m   2664\u001b[0m \u001b[38;5;124;03mAdds the constraints added by the following methods:\u001b[39;00m\n\u001b[0;32m   (...)\u001b[0m\n\u001b[1;32m   2670\u001b[0m \u001b[38;5;124;03m* :py:meth:`add_constraints_clusters <pygobnilp.gobnilp.Gobnilp.add_constraints_clusters>`\u001b[39;00m\n\u001b[1;32m   2671\u001b[0m \u001b[38;5;124;03m'''\u001b[39;00m\n\u001b[1;32m   2672\u001b[0m \u001b[38;5;28mself\u001b[39m\u001b[38;5;241m.\u001b[39madd_constraints_oneparentset()\n\u001b[0;32m-> 2673\u001b[0m \u001b[38;5;28;43mself\u001b[39;49m\u001b[38;5;241;43m.\u001b[39;49m\u001b[43madd_constraints_setpacking\u001b[49m\u001b[43m(\u001b[49m\u001b[43m)\u001b[49m\n\u001b[1;32m   2674\u001b[0m \u001b[38;5;28mself\u001b[39m\u001b[38;5;241m.\u001b[39madd_constraints_arrow_family()\n\u001b[1;32m   2675\u001b[0m \u001b[38;5;28mself\u001b[39m\u001b[38;5;241m.\u001b[39madd_constraints_arrow_adjacency()\n",
      "File \u001b[0;32m~/src/research/modules/PyBKB/pybkb_venv/lib/python3.8/site-packages/pygobnilp/gobnilp.py:2412\u001b[0m, in \u001b[0;36mGobnilp.add_constraints_setpacking\u001b[0;34m(self)\u001b[0m\n\u001b[1;32m   2410\u001b[0m quads \u001b[38;5;241m=\u001b[39m \u001b[38;5;28mself\u001b[39m\u001b[38;5;241m.\u001b[39m_extend(triples)\n\u001b[1;32m   2411\u001b[0m \u001b[38;5;28mself\u001b[39m\u001b[38;5;241m.\u001b[39m_spc(triples)\n\u001b[0;32m-> 2412\u001b[0m \u001b[38;5;28;43mself\u001b[39;49m\u001b[38;5;241;43m.\u001b[39;49m\u001b[43m_spc\u001b[49m\u001b[43m(\u001b[49m\u001b[43mquads\u001b[49m\u001b[43m)\u001b[49m\n\u001b[1;32m   2413\u001b[0m \u001b[38;5;28;01mif\u001b[39;00m \u001b[38;5;28mself\u001b[39m\u001b[38;5;241m.\u001b[39m_verbose:\n\u001b[1;32m   2414\u001b[0m     \u001b[38;5;28mprint\u001b[39m(\u001b[38;5;124m'\u001b[39m\u001b[38;5;132;01m%d\u001b[39;00m\u001b[38;5;124m set packing constraints declared\u001b[39m\u001b[38;5;124m'\u001b[39m \u001b[38;5;241m%\u001b[39m (\u001b[38;5;28mlen\u001b[39m(triples) \u001b[38;5;241m+\u001b[39m \u001b[38;5;28mlen\u001b[39m(quads)), file\u001b[38;5;241m=\u001b[39msys\u001b[38;5;241m.\u001b[39mstderr)\n",
      "File \u001b[0;32m~/src/research/modules/PyBKB/pybkb_venv/lib/python3.8/site-packages/pygobnilp/gobnilp.py:2386\u001b[0m, in \u001b[0;36mGobnilp._spc\u001b[0;34m(self, ss)\u001b[0m\n\u001b[1;32m   2384\u001b[0m \u001b[38;5;28;01mfor\u001b[39;00m child \u001b[38;5;129;01min\u001b[39;00m s:\n\u001b[1;32m   2385\u001b[0m     others \u001b[38;5;241m=\u001b[39m s \u001b[38;5;241m-\u001b[39m \u001b[38;5;28mfrozenset\u001b[39m([child])\n\u001b[0;32m-> 2386\u001b[0m     \u001b[38;5;28;01mfor\u001b[39;00m parentset, fv \u001b[38;5;129;01min\u001b[39;00m \u001b[38;5;28mlist\u001b[39m(family[child]\u001b[38;5;241m.\u001b[39mitems()):\n\u001b[1;32m   2387\u001b[0m         \u001b[38;5;28;01mif\u001b[39;00m others \u001b[38;5;241m<\u001b[39m\u001b[38;5;241m=\u001b[39m parentset:\n\u001b[1;32m   2388\u001b[0m             fvs\u001b[38;5;241m.\u001b[39mappend(fv)\n",
      "\u001b[0;31mKeyboardInterrupt\u001b[0m: "
     ]
    }
   ],
   "source": [
    "learner.fit(data, feature_states, srcs=srcs, verbose=True)"
   ]
  },
  {
   "cell_type": "code",
   "execution_count": null,
   "metadata": {},
   "outputs": [],
   "source": [
    "fused = fuse(learner.bkfs, reliabilities=[1 for _ in range(len(learner.bkfs))], collapse=True)"
   ]
  },
  {
   "cell_type": "code",
   "execution_count": null,
   "metadata": {},
   "outputs": [],
   "source": [
    "render(fused, hide_sources=True)"
   ]
  },
  {
   "cell_type": "code",
   "execution_count": 6,
   "metadata": {},
   "outputs": [
    {
     "ename": "AttributeError",
     "evalue": "'BKBLearner' object has no attribute 'bkfs'",
     "output_type": "error",
     "traceback": [
      "\u001b[0;31m---------------------------------------------------------------------------\u001b[0m",
      "\u001b[0;31mAttributeError\u001b[0m                            Traceback (most recent call last)",
      "Input \u001b[0;32mIn [6]\u001b[0m, in \u001b[0;36m<cell line: 1>\u001b[0;34m()\u001b[0m\n\u001b[0;32m----> 1\u001b[0m \u001b[43mlearner\u001b[49m\u001b[38;5;241;43m.\u001b[39;49m\u001b[43mbkfs\u001b[49m\n",
      "\u001b[0;31mAttributeError\u001b[0m: 'BKBLearner' object has no attribute 'bkfs'"
     ]
    }
   ],
   "source": [
    "learner.bkfs"
   ]
  },
  {
   "cell_type": "code",
   "execution_count": null,
   "metadata": {},
   "outputs": [],
   "source": []
  }
 ],
 "metadata": {
  "kernelspec": {
   "display_name": "pybkb_venv",
   "language": "python",
   "name": "pybkb_venv"
  },
  "language_info": {
   "codemirror_mode": {
    "name": "ipython",
    "version": 3
   },
   "file_extension": ".py",
   "mimetype": "text/x-python",
   "name": "python",
   "nbconvert_exporter": "python",
   "pygments_lexer": "ipython3",
   "version": "3.8.4"
  }
 },
 "nbformat": 4,
 "nbformat_minor": 4
}
