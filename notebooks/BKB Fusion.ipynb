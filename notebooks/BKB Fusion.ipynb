{
 "cells": [
  {
   "cell_type": "code",
   "execution_count": 1,
   "id": "751a70f2",
   "metadata": {},
   "outputs": [],
   "source": [
    "from pybkb.bkb import BKB\n",
    "from pybkb.fusion import fuse\n",
    "import networkx as nx"
   ]
  },
  {
   "cell_type": "code",
   "execution_count": 2,
   "id": "3e9bf5e4",
   "metadata": {},
   "outputs": [],
   "source": [
    "# Here are all the Pirate BKBs\n",
    "bkb_paths = [\n",
    "    '../bkbs/fisherman.bkb',\n",
    "    '../bkbs/illegal_dumping_ev.bkb',\n",
    "    '../bkbs/illegal_fishing_ev.bkb',\n",
    "    '../bkbs/pirate.bkb',\n",
    "    '../bkbs/tsunami_ev.bkb',\n",
    "]"
   ]
  },
  {
   "cell_type": "code",
   "execution_count": 3,
   "id": "3ad36ce9",
   "metadata": {},
   "outputs": [],
   "source": [
    "# Load in the BKFs\n",
    "bkfs = [BKB.load(path) for path in bkb_paths]"
   ]
  },
  {
   "cell_type": "code",
   "execution_count": 4,
   "id": "5311cb73",
   "metadata": {},
   "outputs": [],
   "source": [
    "# Set reliabilities\n",
    "reliabilities = [1 for _ in range(len(bkfs))]"
   ]
  },
  {
   "cell_type": "code",
   "execution_count": 5,
   "id": "23e2808a",
   "metadata": {},
   "outputs": [],
   "source": [
    "# First we will just fuse and display\n",
    "fused_bkb = fuse(bkfs, reliabilities, collapse=False)"
   ]
  },
  {
   "cell_type": "code",
   "execution_count": 6,
   "id": "57615e4f",
   "metadata": {},
   "outputs": [],
   "source": [
    "# Second we will fuse and collapse.\n",
    "col_bkb = fuse(bkfs, reliabilities, collapse=True)"
   ]
  },
  {
   "cell_type": "code",
   "execution_count": 19,
   "id": "793e14d4",
   "metadata": {},
   "outputs": [
    {
     "data": {
      "application/vnd.jupyter.widget-view+json": {
       "model_id": "2f3f67af636d4c55a87245450428bfd0",
       "version_major": 2,
       "version_minor": 0
      },
      "text/plain": [
       "CytoscapeWidget(cytoscape_layout={'name': 'dagre', 'nodeSpacing': 10, 'edgeLengthVal': 10}, cytoscape_style=[{…"
      ]
     },
     "metadata": {},
     "output_type": "display_data"
    }
   ],
   "source": [
    "col_bkb.render_nx(include_sources=False)"
   ]
  },
  {
   "cell_type": "code",
   "execution_count": 17,
   "id": "432e2316",
   "metadata": {},
   "outputs": [],
   "source": [
    "# Goldfish example\n",
    "bkfs = [BKB.load('../bkbs/goldfish.bkb')]*10\n",
    "reliabilities = [1 for _ in range(len(bkfs))]\n",
    "srcs = [str(i) for i in range(len(bkfs))]"
   ]
  },
  {
   "cell_type": "code",
   "execution_count": 18,
   "id": "09a99495",
   "metadata": {},
   "outputs": [],
   "source": [
    "col_bkb = fuse(bkfs, reliabilities, srcs, collapse=True)"
   ]
  },
  {
   "cell_type": "code",
   "execution_count": 19,
   "id": "8c4c7fa1",
   "metadata": {},
   "outputs": [],
   "source": [
    "# You can also hide sources for easier viewing.\n",
    "bkb = bkfs[0]"
   ]
  },
  {
   "cell_type": "code",
   "execution_count": 20,
   "id": "265df9cd",
   "metadata": {},
   "outputs": [
    {
     "data": {
      "application/vnd.jupyter.widget-view+json": {
       "model_id": "89a7df6d616f4016b20ce8775a2da084",
       "version_major": 2,
       "version_minor": 0
      },
      "text/plain": [
       "CytoscapeWidget(cytoscape_layout={'name': 'dagre', 'nodeSpacing': 10, 'edgeLengthVal': 10}, cytoscape_style=[{…"
      ]
     },
     "metadata": {},
     "output_type": "display_data"
    }
   ],
   "source": [
    "bkb.render_nx()"
   ]
  },
  {
   "cell_type": "code",
   "execution_count": 12,
   "id": "3225455e",
   "metadata": {},
   "outputs": [
    {
     "data": {
      "text/plain": [
       "[]"
      ]
     },
     "execution_count": 12,
     "metadata": {},
     "output_type": "execute_result"
    }
   ],
   "source": [
    "bkb.get_snode_tail(344)"
   ]
  },
  {
   "cell_type": "code",
   "execution_count": 12,
   "id": "bf5a2f05",
   "metadata": {},
   "outputs": [
    {
     "data": {
      "text/plain": [
       "[244]"
      ]
     },
     "execution_count": 12,
     "metadata": {},
     "output_type": "execute_result"
    }
   ],
   "source": [
    "snodes_by_head[('[F] Skin', 'Normal')]"
   ]
  },
  {
   "cell_type": "code",
   "execution_count": 6,
   "id": "9c5a51ee",
   "metadata": {},
   "outputs": [
    {
     "data": {
      "text/plain": [
       "('[W] Water Condition', 'Alkaline')"
      ]
     },
     "execution_count": 6,
     "metadata": {},
     "output_type": "execute_result"
    }
   ],
   "source": [
    "bkb.get_snode_head(18)"
   ]
  },
  {
   "cell_type": "code",
   "execution_count": 14,
   "id": "8bcd0a86",
   "metadata": {},
   "outputs": [
    {
     "name": "stdout",
     "output_type": "stream",
     "text": [
      "[211, 299]\n"
     ]
    }
   ],
   "source": [
    "for tail in snodes_by_tail:\n",
    "    if ('[W] Chlorine Level', '[4 - 5] ppm') in tail:\n",
    "        print(snodes_by_tail[tail])"
   ]
  },
  {
   "cell_type": "code",
   "execution_count": null,
   "id": "2d21805c",
   "metadata": {},
   "outputs": [],
   "source": []
  }
 ],
 "metadata": {
  "kernelspec": {
   "display_name": "pybkb_venv",
   "language": "python",
   "name": "pybkb_venv"
  },
  "language_info": {
   "codemirror_mode": {
    "name": "ipython",
    "version": 3
   },
   "file_extension": ".py",
   "mimetype": "text/x-python",
   "name": "python",
   "nbconvert_exporter": "python",
   "pygments_lexer": "ipython3",
   "version": "3.8.4"
  }
 },
 "nbformat": 4,
 "nbformat_minor": 5
}
