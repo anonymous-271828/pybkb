{
 "cells": [
  {
   "cell_type": "markdown",
   "id": "2515d1f8",
   "metadata": {},
   "source": [
    "# Welcome to the BKB Basics Tutorial in Python!\n",
    "In this tutorial we will learn how to:\n",
    "\n",
    "1. Properly import PyBKB modules\n",
    "1. Load/Save BKBs.\n",
    "1. Build custom BKBs.\n",
    "1. Graph BKBs."
   ]
  },
  {
   "cell_type": "markdown",
   "id": "3e7b2765",
   "metadata": {},
   "source": [
    "## Import Statements\n",
    "There are many different modules for doing different things with BKBs and in this tutorial we will focus on using the basic BKB API module to manipulate BKB objects as well as an S-node Object for adding S-nodes into your BKBs. The following import statements are the basic ones you'll need:"
   ]
  },
  {
   "cell_type": "code",
   "execution_count": 1,
   "id": "1adbd62b",
   "metadata": {},
   "outputs": [],
   "source": [
    "# Imports the BKB object\n",
    "from pybkb.bkb import BKB\n",
    "from pybkb.utils.cytoscape import render"
   ]
  },
  {
   "cell_type": "markdown",
   "id": "f21015cb",
   "metadata": {},
   "source": [
    "## Load and Save a BKB\n",
    "You will find a couple sample bkbs saved in the /examples folder of the repo which can be loaded and saved at your desire. *Note: The BKB I/O process has changed protocols over time and therefore if one protocol doesn't work than try another one.*\n",
    "\n",
    "### Protocol 1: From a TXT type file"
   ]
  },
  {
   "cell_type": "code",
   "execution_count": 2,
   "id": "221fe004",
   "metadata": {},
   "outputs": [
    {
     "data": {
      "application/vnd.jupyter.widget-view+json": {
       "model_id": "ef0c7e53b6df450cb2ca75d571029430",
       "version_major": 2,
       "version_minor": 0
      },
      "text/plain": [
       "CytoscapeWidget(cytoscape_layout={'name': 'dagre', 'nodeSpacing': 10, 'edgeLengthVal': 10}, cytoscape_style=[{…"
      ]
     },
     "execution_count": 2,
     "metadata": {},
     "output_type": "execute_result"
    }
   ],
   "source": [
    "bkb = BKB.load_legacy('../examples/aquatic_eco.bkb', use_pickle=False, compress=False)\n",
    "render(bkb)"
   ]
  },
  {
   "cell_type": "markdown",
   "id": "b9008af8",
   "metadata": {},
   "source": [
    "If you look at the source code for the aquatic_eco.bkb you will see that it is written in a text file type format. Therefore, it should be loaded in the manner above.\n",
    "\n",
    "### Protocol 2: From a Binary-type File"
   ]
  },
  {
   "cell_type": "code",
   "execution_count": 3,
   "id": "3896581e",
   "metadata": {},
   "outputs": [
    {
     "ename": "ModuleNotFoundError",
     "evalue": "No module named 'pybkb.common'",
     "output_type": "error",
     "traceback": [
      "\u001b[0;31m---------------------------------------------------------------------------\u001b[0m",
      "\u001b[0;31mModuleNotFoundError\u001b[0m                       Traceback (most recent call last)",
      "Cell \u001b[0;32mIn[3], line 1\u001b[0m\n\u001b[0;32m----> 1\u001b[0m bkb \u001b[38;5;241m=\u001b[39m \u001b[43mBKB\u001b[49m\u001b[38;5;241;43m.\u001b[39;49m\u001b[43mload_legacy\u001b[49m\u001b[43m(\u001b[49m\u001b[38;5;124;43m'\u001b[39;49m\u001b[38;5;124;43m../examples/aquatic_eco_binary.bkb\u001b[39;49m\u001b[38;5;124;43m'\u001b[39;49m\u001b[43m,\u001b[49m\u001b[43m \u001b[49m\u001b[43muse_pickle\u001b[49m\u001b[38;5;241;43m=\u001b[39;49m\u001b[38;5;28;43;01mTrue\u001b[39;49;00m\u001b[43m,\u001b[49m\u001b[43m \u001b[49m\u001b[43mcompress\u001b[49m\u001b[38;5;241;43m=\u001b[39;49m\u001b[38;5;28;43;01mTrue\u001b[39;49;00m\u001b[43m)\u001b[49m\n\u001b[1;32m      2\u001b[0m render(bkb)\n",
      "File \u001b[0;32m~/src/research/modules/PyBKB/pybkb/bkb.py:169\u001b[0m, in \u001b[0;36mBKB.load_legacy\u001b[0;34m(cls, filepath, use_pickle, compress, sparse_array_format)\u001b[0m\n\u001b[1;32m    167\u001b[0m \u001b[38;5;66;03m# Load the legacy BKB object\u001b[39;00m\n\u001b[1;32m    168\u001b[0m \u001b[38;5;28;01mif\u001b[39;00m use_pickle:\n\u001b[0;32m--> 169\u001b[0m     legacy \u001b[38;5;241m=\u001b[39m \u001b[43mlegacyBKB\u001b[49m\u001b[43m(\u001b[49m\u001b[43m)\u001b[49m\u001b[38;5;241;43m.\u001b[39;49m\u001b[43mload\u001b[49m\u001b[43m(\u001b[49m\u001b[43mfilepath\u001b[49m\u001b[43m,\u001b[49m\u001b[43m \u001b[49m\u001b[43muse_pickle\u001b[49m\u001b[43m,\u001b[49m\u001b[43m \u001b[49m\u001b[43mcompress\u001b[49m\u001b[43m)\u001b[49m\n\u001b[1;32m    170\u001b[0m \u001b[38;5;28;01melse\u001b[39;00m:\n\u001b[1;32m    171\u001b[0m     legacy \u001b[38;5;241m=\u001b[39m legacyBKB()\n",
      "File \u001b[0;32m~/src/research/modules/PyBKB/pybkb/legacy/bayesianKnowledgeBase.py:585\u001b[0m, in \u001b[0;36mbayesianKnowledgeBase.load\u001b[0;34m(self, filename, use_pickle, compress)\u001b[0m\n\u001b[1;32m    583\u001b[0m \u001b[38;5;28;01mwith\u001b[39;00m \u001b[38;5;28mopen\u001b[39m(filename, \u001b[38;5;124m'\u001b[39m\u001b[38;5;124mrb\u001b[39m\u001b[38;5;124m'\u001b[39m) \u001b[38;5;28;01mas\u001b[39;00m f_:\n\u001b[1;32m    584\u001b[0m     \u001b[38;5;28;01mif\u001b[39;00m compress:\n\u001b[0;32m--> 585\u001b[0m         \u001b[38;5;28;01mreturn\u001b[39;00m \u001b[43mcompress_pickle\u001b[49m\u001b[38;5;241;43m.\u001b[39;49m\u001b[43mload\u001b[49m\u001b[43m(\u001b[49m\u001b[43mf_\u001b[49m\u001b[43m,\u001b[49m\u001b[43m \u001b[49m\u001b[43mcompression\u001b[49m\u001b[38;5;241;43m=\u001b[39;49m\u001b[38;5;124;43m\"\u001b[39;49m\u001b[38;5;124;43mlz4\u001b[39;49m\u001b[38;5;124;43m\"\u001b[39;49m\u001b[43m)\u001b[49m\n\u001b[1;32m    586\u001b[0m     \u001b[38;5;28;01melse\u001b[39;00m:\n\u001b[1;32m    587\u001b[0m         \u001b[38;5;28;01mreturn\u001b[39;00m pickle\u001b[38;5;241m.\u001b[39mload(f_)\n",
      "File \u001b[0;32m~/.cache/pypoetry/virtualenvs/pybkb-0EmLJAN6-py3.8/lib/python3.8/site-packages/compress_pickle/compress_pickle.py:272\u001b[0m, in \u001b[0;36mload\u001b[0;34m(path, compression, pickler_method, pickler_kwargs, mode, set_default_extension, **kwargs)\u001b[0m\n\u001b[1;32m    270\u001b[0m     pickler_kwargs \u001b[38;5;241m=\u001b[39m {}\n\u001b[1;32m    271\u001b[0m \u001b[38;5;28;01mtry\u001b[39;00m:\n\u001b[0;32m--> 272\u001b[0m     output \u001b[38;5;241m=\u001b[39m \u001b[43muncompress_and_unpickle\u001b[49m\u001b[43m(\u001b[49m\n\u001b[1;32m    273\u001b[0m \u001b[43m        \u001b[49m\u001b[43mcompresser\u001b[49m\u001b[43m,\u001b[49m\n\u001b[1;32m    274\u001b[0m \u001b[43m        \u001b[49m\u001b[43mpickler\u001b[49m\u001b[38;5;241;43m=\u001b[39;49m\u001b[43mpickler\u001b[49m\u001b[43m,\u001b[49m\n\u001b[1;32m    275\u001b[0m \u001b[43m        \u001b[49m\u001b[38;5;241;43m*\u001b[39;49m\u001b[38;5;241;43m*\u001b[39;49m\u001b[43mpickler_kwargs\u001b[49m\u001b[43m,\u001b[49m\n\u001b[1;32m    276\u001b[0m \u001b[43m    \u001b[49m\u001b[43m)\u001b[49m\n\u001b[1;32m    277\u001b[0m \u001b[38;5;28;01mfinally\u001b[39;00m:\n\u001b[1;32m    278\u001b[0m     compresser\u001b[38;5;241m.\u001b[39mclose()\n",
      "File \u001b[0;32m/usr/lib/python3.8/functools.py:875\u001b[0m, in \u001b[0;36msingledispatch.<locals>.wrapper\u001b[0;34m(*args, **kw)\u001b[0m\n\u001b[1;32m    871\u001b[0m \u001b[38;5;28;01mif\u001b[39;00m \u001b[38;5;129;01mnot\u001b[39;00m args:\n\u001b[1;32m    872\u001b[0m     \u001b[38;5;28;01mraise\u001b[39;00m \u001b[38;5;167;01mTypeError\u001b[39;00m(\u001b[38;5;124mf\u001b[39m\u001b[38;5;124m'\u001b[39m\u001b[38;5;132;01m{\u001b[39;00mfuncname\u001b[38;5;132;01m}\u001b[39;00m\u001b[38;5;124m requires at least \u001b[39m\u001b[38;5;124m'\u001b[39m\n\u001b[1;32m    873\u001b[0m                     \u001b[38;5;124m'\u001b[39m\u001b[38;5;124m1 positional argument\u001b[39m\u001b[38;5;124m'\u001b[39m)\n\u001b[0;32m--> 875\u001b[0m \u001b[38;5;28;01mreturn\u001b[39;00m \u001b[43mdispatch\u001b[49m\u001b[43m(\u001b[49m\u001b[43margs\u001b[49m\u001b[43m[\u001b[49m\u001b[38;5;241;43m0\u001b[39;49m\u001b[43m]\u001b[49m\u001b[38;5;241;43m.\u001b[39;49m\u001b[38;5;18;43m__class__\u001b[39;49m\u001b[43m)\u001b[49m\u001b[43m(\u001b[49m\u001b[38;5;241;43m*\u001b[39;49m\u001b[43margs\u001b[49m\u001b[43m,\u001b[49m\u001b[43m \u001b[49m\u001b[38;5;241;43m*\u001b[39;49m\u001b[38;5;241;43m*\u001b[39;49m\u001b[43mkw\u001b[49m\u001b[43m)\u001b[49m\n",
      "File \u001b[0;32m~/.cache/pypoetry/virtualenvs/pybkb-0EmLJAN6-py3.8/lib/python3.8/site-packages/compress_pickle/io/base.py:99\u001b[0m, in \u001b[0;36mdefault_uncompress_and_unpickle\u001b[0;34m(compresser, pickler, **kwargs)\u001b[0m\n\u001b[1;32m     95\u001b[0m \u001b[38;5;129m@uncompress_and_unpickle\u001b[39m\u001b[38;5;241m.\u001b[39mregister(BaseCompresser)\n\u001b[1;32m     96\u001b[0m \u001b[38;5;28;01mdef\u001b[39;00m \u001b[38;5;21mdefault_uncompress_and_unpickle\u001b[39m(\n\u001b[1;32m     97\u001b[0m     compresser: BaseCompresser, pickler: BasePicklerIO, \u001b[38;5;241m*\u001b[39m\u001b[38;5;241m*\u001b[39mkwargs\n\u001b[1;32m     98\u001b[0m ) \u001b[38;5;241m-\u001b[39m\u001b[38;5;241m>\u001b[39m Any:\n\u001b[0;32m---> 99\u001b[0m     \u001b[38;5;28;01mreturn\u001b[39;00m \u001b[43mpickler\u001b[49m\u001b[38;5;241;43m.\u001b[39;49m\u001b[43mload\u001b[49m\u001b[43m(\u001b[49m\u001b[43mstream\u001b[49m\u001b[38;5;241;43m=\u001b[39;49m\u001b[43mcompresser\u001b[49m\u001b[38;5;241;43m.\u001b[39;49m\u001b[43mget_stream\u001b[49m\u001b[43m(\u001b[49m\u001b[43m)\u001b[49m\u001b[43m,\u001b[49m\u001b[43m \u001b[49m\u001b[38;5;241;43m*\u001b[39;49m\u001b[38;5;241;43m*\u001b[39;49m\u001b[43mkwargs\u001b[49m\u001b[43m)\u001b[49m\n",
      "File \u001b[0;32m~/.cache/pypoetry/virtualenvs/pybkb-0EmLJAN6-py3.8/lib/python3.8/site-packages/compress_pickle/picklers/pickle.py:45\u001b[0m, in \u001b[0;36mBuiltinPicklerIO.load\u001b[0;34m(self, stream, **kwargs)\u001b[0m\n\u001b[1;32m     30\u001b[0m \u001b[38;5;28;01mdef\u001b[39;00m \u001b[38;5;21mload\u001b[39m(\u001b[38;5;28mself\u001b[39m, stream: IO[\u001b[38;5;28mbytes\u001b[39m], \u001b[38;5;241m*\u001b[39m\u001b[38;5;241m*\u001b[39mkwargs):\n\u001b[1;32m     31\u001b[0m     \u001b[38;5;124;03m\"\"\"Load a serialized binary representation of an object from a stream.\u001b[39;00m\n\u001b[1;32m     32\u001b[0m \n\u001b[1;32m     33\u001b[0m \u001b[38;5;124;03m    Parameters\u001b[39;00m\n\u001b[0;32m   (...)\u001b[0m\n\u001b[1;32m     43\u001b[0m \u001b[38;5;124;03m        The python object that was loaded.\u001b[39;00m\n\u001b[1;32m     44\u001b[0m \u001b[38;5;124;03m    \"\"\"\u001b[39;00m\n\u001b[0;32m---> 45\u001b[0m     \u001b[38;5;28;01mreturn\u001b[39;00m \u001b[43mpickle\u001b[49m\u001b[38;5;241;43m.\u001b[39;49m\u001b[43mload\u001b[49m\u001b[43m(\u001b[49m\u001b[43mstream\u001b[49m\u001b[43m,\u001b[49m\u001b[43m \u001b[49m\u001b[38;5;241;43m*\u001b[39;49m\u001b[38;5;241;43m*\u001b[39;49m\u001b[43mkwargs\u001b[49m\u001b[43m)\u001b[49m\n",
      "\u001b[0;31mModuleNotFoundError\u001b[0m: No module named 'pybkb.common'"
     ]
    }
   ],
   "source": [
    "bkb = BKB.load_legacy('../examples/aquatic_eco_binary.bkb', use_pickle=True, compress=True)\n",
    "render(bkb)"
   ]
  },
  {
   "cell_type": "markdown",
   "id": "72279e37",
   "metadata": {},
   "source": [
    "**Make Note:** In this protocol the *load* function will actually return the loaded BKB object unlike the txt file protocol that modifies the BKBs internal structure. \n",
    "\n",
    "## Building Custom BKBs\n",
    "In this portion of the tutorial we will focus on building a BKB from scratch and leveraging the BKB API to make *somewhat* quick work of this. Let's build a BKB with 2 Random Variables, $A$, $B$ each having two states, $a_1$, $a_2$, $b_1$, $b_2$. Then let's put some random S-nodes between instantations and form a nice little BKB."
   ]
  },
  {
   "cell_type": "code",
   "execution_count": 5,
   "id": "6b472067",
   "metadata": {},
   "outputs": [],
   "source": [
    "# Initialize a new BKB.\n",
    "bkb = BKB()"
   ]
  },
  {
   "cell_type": "code",
   "execution_count": 6,
   "id": "642c4f13",
   "metadata": {},
   "outputs": [],
   "source": [
    "# First add the I-nodes to the BKB\n",
    "bkb.add_inode('A', 'a1')\n",
    "bkb.add_inode('A', 'a2')\n",
    "bkb.add_inode('B', 'b1')\n",
    "bkb.add_inode('B', 'b2')"
   ]
  },
  {
   "cell_type": "markdown",
   "id": "d9f8892a",
   "metadata": {},
   "source": [
    "Now let's add some S-nodes."
   ]
  },
  {
   "cell_type": "code",
   "execution_count": 7,
   "id": "43ae54c9",
   "metadata": {},
   "outputs": [],
   "source": [
    "\n",
    "# Create an S-node from A = a1 -> B = b1 with a probability of 0.45\n",
    "snode_1 = bkb.add_snode('B', 'b1', 0.45, [('A', 'a1')])\n",
    "\n",
    "# Create an S-node from A = a1 -> B = b2 with a probability of 0.55\n",
    "snode_2 = bkb.add_snode('B', 'b2', 0.55, [('A', 'a1')])\n",
    "\n",
    "# Create an S-node from A = a2 -> B = b2 with a probability of 0.2\n",
    "snode_3 = bkb.add_snode('B', 'b2', 0.2, [('A', 'a2')])\n",
    "\n",
    "# Create prior S-nodes on A=a1 and A=a2\n",
    "snode_4 = bkb.add_snode('A', 'a1', 0.1)\n",
    "snode_5 = bkb.add_snode('A', 'a2', 0.9)\n"
   ]
  },
  {
   "cell_type": "code",
   "execution_count": 8,
   "id": "bdfd3ab0",
   "metadata": {},
   "outputs": [
    {
     "data": {
      "application/vnd.jupyter.widget-view+json": {
       "model_id": "2309f0dc9f8e4ce2bb9f3b383e31c9df",
       "version_major": 2,
       "version_minor": 0
      },
      "text/plain": [
       "CytoscapeWidget(cytoscape_layout={'name': 'dagre', 'nodeSpacing': 10, 'edgeLengthVal': 10}, cytoscape_style=[{…"
      ]
     },
     "metadata": {},
     "output_type": "display_data"
    }
   ],
   "source": [
    "render(bkb)"
   ]
  },
  {
   "cell_type": "markdown",
   "id": "1eab1237",
   "metadata": {},
   "source": [
    "Will add a more detail section of BKB graphing but you should see the basics outlined above."
   ]
  }
 ],
 "metadata": {
  "kernelspec": {
   "display_name": "Python 3 (ipykernel)",
   "language": "python",
   "name": "python3"
  },
  "language_info": {
   "codemirror_mode": {
    "name": "ipython",
    "version": 3
   },
   "file_extension": ".py",
   "mimetype": "text/x-python",
   "name": "python",
   "nbconvert_exporter": "python",
   "pygments_lexer": "ipython3",
   "version": "3.8.10"
  }
 },
 "nbformat": 4,
 "nbformat_minor": 5
}
