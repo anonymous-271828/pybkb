{
 "cells": [
  {
   "cell_type": "code",
   "execution_count": 13,
   "id": "54a1fdc3",
   "metadata": {},
   "outputs": [],
   "source": [
    "import pickle\n",
    "from pybkb.learn import BKBLearner"
   ]
  },
  {
   "cell_type": "markdown",
   "id": "a8f4f9a1",
   "metadata": {},
   "source": [
    "Here we shall study a very simple sprinkler example derived from the common Bayesian Network literature. First we shall load the sprinkler data file present in the PyBKB repository and it has already been formatted to fit our structure learning needs. "
   ]
  },
  {
   "cell_type": "code",
   "execution_count": 14,
   "id": "d288e716",
   "metadata": {},
   "outputs": [],
   "source": [
    "#Load the data\n",
    "with open('../data/sprinkler.dat', 'rb') as data_file:\n",
    "    data, feature_states, srcs = pickle.load(data_file)"
   ]
  },
  {
   "cell_type": "markdown",
   "id": "1015df21",
   "metadata": {},
   "source": [
    "Now we shall fit the data using Conditional Entropy MDL as outlined in our paper using a GOBNILP backend to learn the underlying DAGs associated with each data instance Bayesian Knowledge Fragment."
   ]
  },
  {
   "cell_type": "code",
   "execution_count": 15,
   "id": "b06b65ec",
   "metadata": {},
   "outputs": [],
   "source": [
    "# Initialize learner\n",
    "learner = BKBLearner('gobnilp', 'mdl_ent')"
   ]
  },
  {
   "cell_type": "code",
   "execution_count": 16,
   "id": "1537d0b5",
   "metadata": {},
   "outputs": [
    {
     "name": "stderr",
     "output_type": "stream",
     "text": [
      "Learning Fragments: 100%|████████████████████████████████████████████████████████████████████████████████████████████████████████████| 1000/1000 [00:03<00:00, 288.69it/s]\n"
     ]
    }
   ],
   "source": [
    "# Fit the sprinkler data\n",
    "learner.fit(data, feature_states, collapse=True)"
   ]
  },
  {
   "cell_type": "markdown",
   "id": "c9f14d5a",
   "metadata": {},
   "source": [
    "Let's analyze first the fitted final fused and collapse BKB. We turned off the source nodes for easier viewing but the graph is mutually exclusive and this can be checked by rendering with sources turned on or inspecting the BKB json."
   ]
  },
  {
   "cell_type": "code",
   "execution_count": 17,
   "id": "1cf8a366",
   "metadata": {},
   "outputs": [
    {
     "data": {
      "application/vnd.jupyter.widget-view+json": {
       "model_id": "1b40faa4f49d43028436200301337fa5",
       "version_major": 2,
       "version_minor": 0
      },
      "text/plain": [
       "CytoscapeWidget(cytoscape_layout={'name': 'dagre', 'nodeSpacing': 10, 'edgeLengthVal': 10}, cytoscape_style=[{…"
      ]
     },
     "metadata": {},
     "output_type": "display_data"
    }
   ],
   "source": [
    "learner.learned_bkb.render_nx()"
   ]
  },
  {
   "cell_type": "markdown",
   "id": "2f743b81",
   "metadata": {},
   "source": [
    "Let's see how this fusion took place by looking some of the different learned worlds of the problem. There are a total of 16 worlds supported by the sprinkler dataset and our algorithm learns the best structure in each of these worlds."
   ]
  },
  {
   "cell_type": "code",
   "execution_count": 18,
   "id": "4c874e7f",
   "metadata": {},
   "outputs": [
    {
     "data": {
      "application/vnd.jupyter.widget-view+json": {
       "model_id": "fa569e4316d54e529a1191c859855012",
       "version_major": 2,
       "version_minor": 0
      },
      "text/plain": [
       "CytoscapeWidget(cytoscape_layout={'name': 'dagre', 'nodeSpacing': 10, 'edgeLengthVal': 10}, cytoscape_style=[{…"
      ]
     },
     "metadata": {},
     "output_type": "display_data"
    }
   ],
   "source": [
    "learner.bkfs[0][0].render_nx()"
   ]
  },
  {
   "cell_type": "code",
   "execution_count": 19,
   "id": "07a2d5de",
   "metadata": {},
   "outputs": [
    {
     "data": {
      "application/vnd.jupyter.widget-view+json": {
       "model_id": "d900b9c70b064765a1cf994df4010a6b",
       "version_major": 2,
       "version_minor": 0
      },
      "text/plain": [
       "CytoscapeWidget(cytoscape_layout={'name': 'dagre', 'nodeSpacing': 10, 'edgeLengthVal': 10}, cytoscape_style=[{…"
      ]
     },
     "metadata": {},
     "output_type": "display_data"
    }
   ],
   "source": [
    "learner.bkfs[1][0].render_nx()"
   ]
  },
  {
   "cell_type": "code",
   "execution_count": 20,
   "id": "52a68c61",
   "metadata": {},
   "outputs": [
    {
     "data": {
      "application/vnd.jupyter.widget-view+json": {
       "model_id": "3d3163fef8c54b568cc442d807cddf50",
       "version_major": 2,
       "version_minor": 0
      },
      "text/plain": [
       "CytoscapeWidget(cytoscape_layout={'name': 'dagre', 'nodeSpacing': 10, 'edgeLengthVal': 10}, cytoscape_style=[{…"
      ]
     },
     "metadata": {},
     "output_type": "display_data"
    }
   ],
   "source": [
    "learner.bkfs[2][0].render_nx()"
   ]
  },
  {
   "cell_type": "code",
   "execution_count": 21,
   "id": "b1d98b8e",
   "metadata": {},
   "outputs": [
    {
     "data": {
      "application/vnd.jupyter.widget-view+json": {
       "model_id": "d61b49ca3b474557aa2355b9a1f934cf",
       "version_major": 2,
       "version_minor": 0
      },
      "text/plain": [
       "CytoscapeWidget(cytoscape_layout={'name': 'dagre', 'nodeSpacing': 10, 'edgeLengthVal': 10}, cytoscape_style=[{…"
      ]
     },
     "metadata": {},
     "output_type": "display_data"
    }
   ],
   "source": [
    "learner.bkfs[3][0].render_nx()"
   ]
  },
  {
   "cell_type": "code",
   "execution_count": 22,
   "id": "597da4d9",
   "metadata": {},
   "outputs": [
    {
     "data": {
      "application/vnd.jupyter.widget-view+json": {
       "model_id": "9aa4c5b31152477bb435ac8da3bf601d",
       "version_major": 2,
       "version_minor": 0
      },
      "text/plain": [
       "CytoscapeWidget(cytoscape_layout={'name': 'dagre', 'nodeSpacing': 10, 'edgeLengthVal': 10}, cytoscape_style=[{…"
      ]
     },
     "metadata": {},
     "output_type": "display_data"
    }
   ],
   "source": [
    "learner.bkfs[4][0].render_nx()"
   ]
  },
  {
   "cell_type": "code",
   "execution_count": 23,
   "id": "2e255cf3",
   "metadata": {},
   "outputs": [
    {
     "data": {
      "application/vnd.jupyter.widget-view+json": {
       "model_id": "dc620a2b5e234effacb5a757beedf7b0",
       "version_major": 2,
       "version_minor": 0
      },
      "text/plain": [
       "CytoscapeWidget(cytoscape_layout={'name': 'dagre', 'nodeSpacing': 10, 'edgeLengthVal': 10}, cytoscape_style=[{…"
      ]
     },
     "metadata": {},
     "output_type": "display_data"
    }
   ],
   "source": [
    "learner.bkfs[5][0].render_nx()"
   ]
  },
  {
   "cell_type": "code",
   "execution_count": null,
   "id": "8a224a1a",
   "metadata": {},
   "outputs": [],
   "source": []
  }
 ],
 "metadata": {
  "kernelspec": {
   "display_name": "Python 3 (ipykernel)",
   "language": "python",
   "name": "python3"
  },
  "language_info": {
   "codemirror_mode": {
    "name": "ipython",
    "version": 3
   },
   "file_extension": ".py",
   "mimetype": "text/x-python",
   "name": "python",
   "nbconvert_exporter": "python",
   "pygments_lexer": "ipython3",
   "version": "3.8.10"
  }
 },
 "nbformat": 4,
 "nbformat_minor": 5
}
